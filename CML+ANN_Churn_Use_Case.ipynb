{
  "nbformat": 4,
  "nbformat_minor": 0,
  "metadata": {
    "kernelspec": {
      "display_name": "Python 3",
      "language": "python",
      "name": "python3"
    },
    "language_info": {
      "codemirror_mode": {
        "name": "ipython",
        "version": 3
      },
      "file_extension": ".py",
      "mimetype": "text/x-python",
      "name": "python",
      "nbconvert_exporter": "python",
      "pygments_lexer": "ipython3",
      "version": "3.7.3"
    },
    "colab": {
      "provenance": []
    }
  },
  "cells": [
    {
      "cell_type": "code",
      "metadata": {
        "id": "umLKy1txT1qy"
      },
      "source": [
        "# Importing the libraries\n",
        "import numpy as np\n",
        "import matplotlib.pyplot as plt\n",
        "import pandas as pd"
      ],
      "execution_count": null,
      "outputs": []
    },
    {
      "cell_type": "code",
      "metadata": {
        "colab": {
          "base_uri": "https://localhost:8080/"
        },
        "id": "1taRbrMcUebs",
        "outputId": "df988901-f892-4991-a223-5b20d5248ddf"
      },
      "source": [
        "# Mounting the google colab drive\n",
        "from google.colab import drive\n",
        "drive.mount('/content/drive')"
      ],
      "execution_count": null,
      "outputs": [
        {
          "output_type": "stream",
          "name": "stdout",
          "text": [
            "Mounted at /content/drive\n"
          ]
        }
      ]
    },
    {
      "cell_type": "code",
      "metadata": {
        "id": "O0OcyU1TT1q0"
      },
      "source": [
        "# Importing the dataset\n",
        "dataset = pd.read_csv('/content/drive/MyDrive/DL/Churn_Modelling.csv')\n",
        "X = dataset.iloc[:, 3:13].values\n",
        "y = dataset.iloc[:, 13].values"
      ],
      "execution_count": null,
      "outputs": []
    },
    {
      "cell_type": "code",
      "metadata": {
        "colab": {
          "base_uri": "https://localhost:8080/",
          "height": 270
        },
        "id": "c9h7HrJwT1q0",
        "outputId": "26c673b8-a8e7-4e03-feff-d1528362ca4c"
      },
      "source": [
        "# Showing the first 5 rows\n",
        "dataset.head(5)"
      ],
      "execution_count": null,
      "outputs": [
        {
          "output_type": "execute_result",
          "data": {
            "text/plain": [
              "   RowNumber  CustomerId   Surname  CreditScore Geography  Gender  Age  \\\n",
              "0          1    15634602  Hargrave          619    France  Female   42   \n",
              "1          2    15647311      Hill          608     Spain  Female   41   \n",
              "2          3    15619304      Onio          502    France  Female   42   \n",
              "3          4    15701354      Boni          699    France  Female   39   \n",
              "4          5    15737888  Mitchell          850     Spain  Female   43   \n",
              "\n",
              "   Tenure    Balance  NumOfProducts  HasCrCard  IsActiveMember  \\\n",
              "0       2       0.00              1          1               1   \n",
              "1       1   83807.86              1          0               1   \n",
              "2       8  159660.80              3          1               0   \n",
              "3       1       0.00              2          0               0   \n",
              "4       2  125510.82              1          1               1   \n",
              "\n",
              "   EstimatedSalary  Exited  \n",
              "0        101348.88       1  \n",
              "1        112542.58       0  \n",
              "2        113931.57       1  \n",
              "3         93826.63       0  \n",
              "4         79084.10       0  "
            ],
            "text/html": [
              "\n",
              "  <div id=\"df-0ab12eeb-559f-4b91-bd59-90ae52de8838\">\n",
              "    <div class=\"colab-df-container\">\n",
              "      <div>\n",
              "<style scoped>\n",
              "    .dataframe tbody tr th:only-of-type {\n",
              "        vertical-align: middle;\n",
              "    }\n",
              "\n",
              "    .dataframe tbody tr th {\n",
              "        vertical-align: top;\n",
              "    }\n",
              "\n",
              "    .dataframe thead th {\n",
              "        text-align: right;\n",
              "    }\n",
              "</style>\n",
              "<table border=\"1\" class=\"dataframe\">\n",
              "  <thead>\n",
              "    <tr style=\"text-align: right;\">\n",
              "      <th></th>\n",
              "      <th>RowNumber</th>\n",
              "      <th>CustomerId</th>\n",
              "      <th>Surname</th>\n",
              "      <th>CreditScore</th>\n",
              "      <th>Geography</th>\n",
              "      <th>Gender</th>\n",
              "      <th>Age</th>\n",
              "      <th>Tenure</th>\n",
              "      <th>Balance</th>\n",
              "      <th>NumOfProducts</th>\n",
              "      <th>HasCrCard</th>\n",
              "      <th>IsActiveMember</th>\n",
              "      <th>EstimatedSalary</th>\n",
              "      <th>Exited</th>\n",
              "    </tr>\n",
              "  </thead>\n",
              "  <tbody>\n",
              "    <tr>\n",
              "      <th>0</th>\n",
              "      <td>1</td>\n",
              "      <td>15634602</td>\n",
              "      <td>Hargrave</td>\n",
              "      <td>619</td>\n",
              "      <td>France</td>\n",
              "      <td>Female</td>\n",
              "      <td>42</td>\n",
              "      <td>2</td>\n",
              "      <td>0.00</td>\n",
              "      <td>1</td>\n",
              "      <td>1</td>\n",
              "      <td>1</td>\n",
              "      <td>101348.88</td>\n",
              "      <td>1</td>\n",
              "    </tr>\n",
              "    <tr>\n",
              "      <th>1</th>\n",
              "      <td>2</td>\n",
              "      <td>15647311</td>\n",
              "      <td>Hill</td>\n",
              "      <td>608</td>\n",
              "      <td>Spain</td>\n",
              "      <td>Female</td>\n",
              "      <td>41</td>\n",
              "      <td>1</td>\n",
              "      <td>83807.86</td>\n",
              "      <td>1</td>\n",
              "      <td>0</td>\n",
              "      <td>1</td>\n",
              "      <td>112542.58</td>\n",
              "      <td>0</td>\n",
              "    </tr>\n",
              "    <tr>\n",
              "      <th>2</th>\n",
              "      <td>3</td>\n",
              "      <td>15619304</td>\n",
              "      <td>Onio</td>\n",
              "      <td>502</td>\n",
              "      <td>France</td>\n",
              "      <td>Female</td>\n",
              "      <td>42</td>\n",
              "      <td>8</td>\n",
              "      <td>159660.80</td>\n",
              "      <td>3</td>\n",
              "      <td>1</td>\n",
              "      <td>0</td>\n",
              "      <td>113931.57</td>\n",
              "      <td>1</td>\n",
              "    </tr>\n",
              "    <tr>\n",
              "      <th>3</th>\n",
              "      <td>4</td>\n",
              "      <td>15701354</td>\n",
              "      <td>Boni</td>\n",
              "      <td>699</td>\n",
              "      <td>France</td>\n",
              "      <td>Female</td>\n",
              "      <td>39</td>\n",
              "      <td>1</td>\n",
              "      <td>0.00</td>\n",
              "      <td>2</td>\n",
              "      <td>0</td>\n",
              "      <td>0</td>\n",
              "      <td>93826.63</td>\n",
              "      <td>0</td>\n",
              "    </tr>\n",
              "    <tr>\n",
              "      <th>4</th>\n",
              "      <td>5</td>\n",
              "      <td>15737888</td>\n",
              "      <td>Mitchell</td>\n",
              "      <td>850</td>\n",
              "      <td>Spain</td>\n",
              "      <td>Female</td>\n",
              "      <td>43</td>\n",
              "      <td>2</td>\n",
              "      <td>125510.82</td>\n",
              "      <td>1</td>\n",
              "      <td>1</td>\n",
              "      <td>1</td>\n",
              "      <td>79084.10</td>\n",
              "      <td>0</td>\n",
              "    </tr>\n",
              "  </tbody>\n",
              "</table>\n",
              "</div>\n",
              "      <button class=\"colab-df-convert\" onclick=\"convertToInteractive('df-0ab12eeb-559f-4b91-bd59-90ae52de8838')\"\n",
              "              title=\"Convert this dataframe to an interactive table.\"\n",
              "              style=\"display:none;\">\n",
              "        \n",
              "  <svg xmlns=\"http://www.w3.org/2000/svg\" height=\"24px\"viewBox=\"0 0 24 24\"\n",
              "       width=\"24px\">\n",
              "    <path d=\"M0 0h24v24H0V0z\" fill=\"none\"/>\n",
              "    <path d=\"M18.56 5.44l.94 2.06.94-2.06 2.06-.94-2.06-.94-.94-2.06-.94 2.06-2.06.94zm-11 1L8.5 8.5l.94-2.06 2.06-.94-2.06-.94L8.5 2.5l-.94 2.06-2.06.94zm10 10l.94 2.06.94-2.06 2.06-.94-2.06-.94-.94-2.06-.94 2.06-2.06.94z\"/><path d=\"M17.41 7.96l-1.37-1.37c-.4-.4-.92-.59-1.43-.59-.52 0-1.04.2-1.43.59L10.3 9.45l-7.72 7.72c-.78.78-.78 2.05 0 2.83L4 21.41c.39.39.9.59 1.41.59.51 0 1.02-.2 1.41-.59l7.78-7.78 2.81-2.81c.8-.78.8-2.07 0-2.86zM5.41 20L4 18.59l7.72-7.72 1.47 1.35L5.41 20z\"/>\n",
              "  </svg>\n",
              "      </button>\n",
              "      \n",
              "  <style>\n",
              "    .colab-df-container {\n",
              "      display:flex;\n",
              "      flex-wrap:wrap;\n",
              "      gap: 12px;\n",
              "    }\n",
              "\n",
              "    .colab-df-convert {\n",
              "      background-color: #E8F0FE;\n",
              "      border: none;\n",
              "      border-radius: 50%;\n",
              "      cursor: pointer;\n",
              "      display: none;\n",
              "      fill: #1967D2;\n",
              "      height: 32px;\n",
              "      padding: 0 0 0 0;\n",
              "      width: 32px;\n",
              "    }\n",
              "\n",
              "    .colab-df-convert:hover {\n",
              "      background-color: #E2EBFA;\n",
              "      box-shadow: 0px 1px 2px rgba(60, 64, 67, 0.3), 0px 1px 3px 1px rgba(60, 64, 67, 0.15);\n",
              "      fill: #174EA6;\n",
              "    }\n",
              "\n",
              "    [theme=dark] .colab-df-convert {\n",
              "      background-color: #3B4455;\n",
              "      fill: #D2E3FC;\n",
              "    }\n",
              "\n",
              "    [theme=dark] .colab-df-convert:hover {\n",
              "      background-color: #434B5C;\n",
              "      box-shadow: 0px 1px 3px 1px rgba(0, 0, 0, 0.15);\n",
              "      filter: drop-shadow(0px 1px 2px rgba(0, 0, 0, 0.3));\n",
              "      fill: #FFFFFF;\n",
              "    }\n",
              "  </style>\n",
              "\n",
              "      <script>\n",
              "        const buttonEl =\n",
              "          document.querySelector('#df-0ab12eeb-559f-4b91-bd59-90ae52de8838 button.colab-df-convert');\n",
              "        buttonEl.style.display =\n",
              "          google.colab.kernel.accessAllowed ? 'block' : 'none';\n",
              "\n",
              "        async function convertToInteractive(key) {\n",
              "          const element = document.querySelector('#df-0ab12eeb-559f-4b91-bd59-90ae52de8838');\n",
              "          const dataTable =\n",
              "            await google.colab.kernel.invokeFunction('convertToInteractive',\n",
              "                                                     [key], {});\n",
              "          if (!dataTable) return;\n",
              "\n",
              "          const docLinkHtml = 'Like what you see? Visit the ' +\n",
              "            '<a target=\"_blank\" href=https://colab.research.google.com/notebooks/data_table.ipynb>data table notebook</a>'\n",
              "            + ' to learn more about interactive tables.';\n",
              "          element.innerHTML = '';\n",
              "          dataTable['output_type'] = 'display_data';\n",
              "          await google.colab.output.renderOutput(dataTable, element);\n",
              "          const docLink = document.createElement('div');\n",
              "          docLink.innerHTML = docLinkHtml;\n",
              "          element.appendChild(docLink);\n",
              "        }\n",
              "      </script>\n",
              "    </div>\n",
              "  </div>\n",
              "  "
            ]
          },
          "metadata": {},
          "execution_count": 4
        }
      ]
    },
    {
      "cell_type": "code",
      "source": [
        "X"
      ],
      "metadata": {
        "colab": {
          "base_uri": "https://localhost:8080/"
        },
        "id": "zKWCh59ZQIJ0",
        "outputId": "fee6fe60-5497-4455-be37-52ffb3c218ce"
      },
      "execution_count": null,
      "outputs": [
        {
          "output_type": "execute_result",
          "data": {
            "text/plain": [
              "array([[619, 'France', 'Female', ..., 1, 1, 101348.88],\n",
              "       [608, 'Spain', 'Female', ..., 0, 1, 112542.58],\n",
              "       [502, 'France', 'Female', ..., 1, 0, 113931.57],\n",
              "       ...,\n",
              "       [709, 'France', 'Female', ..., 0, 1, 42085.58],\n",
              "       [772, 'Germany', 'Male', ..., 1, 0, 92888.52],\n",
              "       [792, 'France', 'Female', ..., 1, 0, 38190.78]], dtype=object)"
            ]
          },
          "metadata": {},
          "execution_count": 5
        }
      ]
    },
    {
      "cell_type": "code",
      "source": [
        "y"
      ],
      "metadata": {
        "colab": {
          "base_uri": "https://localhost:8080/"
        },
        "id": "fiarnGV2QJXi",
        "outputId": "7492a219-be5d-4932-c38b-0eb7ce9da081"
      },
      "execution_count": null,
      "outputs": [
        {
          "output_type": "execute_result",
          "data": {
            "text/plain": [
              "array([1, 0, 1, ..., 1, 1, 0])"
            ]
          },
          "metadata": {},
          "execution_count": 6
        }
      ]
    },
    {
      "cell_type": "code",
      "metadata": {
        "colab": {
          "base_uri": "https://localhost:8080/"
        },
        "id": "dcnFxKkaT1q1",
        "outputId": "09bfe99f-e186-45eb-d6e0-bf717c36cb47"
      },
      "source": [
        "# Encoding categorical data\n",
        "from sklearn.preprocessing import LabelEncoder, OneHotEncoder\n",
        "labelencoder_X_1 = LabelEncoder()\n",
        "X[:, 1] = labelencoder_X_1.fit_transform(X[:, 1])\n",
        "labelencoder_X_2 = LabelEncoder()\n",
        "X[:, 2] = labelencoder_X_2.fit_transform(X[:, 2])\n",
        "X"
      ],
      "execution_count": null,
      "outputs": [
        {
          "output_type": "execute_result",
          "data": {
            "text/plain": [
              "array([[619, 0, 0, ..., 1, 1, 101348.88],\n",
              "       [608, 2, 0, ..., 0, 1, 112542.58],\n",
              "       [502, 0, 0, ..., 1, 0, 113931.57],\n",
              "       ...,\n",
              "       [709, 0, 0, ..., 0, 1, 42085.58],\n",
              "       [772, 1, 1, ..., 1, 0, 92888.52],\n",
              "       [792, 0, 0, ..., 1, 0, 38190.78]], dtype=object)"
            ]
          },
          "metadata": {},
          "execution_count": 7
        }
      ]
    },
    {
      "cell_type": "code",
      "metadata": {
        "id": "s-cbKAU8T1q1"
      },
      "source": [
        "# Splitting the dataset into the Training set and Test set\n",
        "from sklearn.model_selection import train_test_split\n",
        "X_train, X_test, y_train, y_test = train_test_split(X, y, test_size = 0.2, random_state = 0)"
      ],
      "execution_count": null,
      "outputs": []
    },
    {
      "cell_type": "code",
      "metadata": {
        "colab": {
          "base_uri": "https://localhost:8080/"
        },
        "id": "JdRCDcXnT1q1",
        "outputId": "a978115e-cdcf-4885-a96c-2e266bce21bd"
      },
      "source": [
        "len(dataset)"
      ],
      "execution_count": null,
      "outputs": [
        {
          "output_type": "execute_result",
          "data": {
            "text/plain": [
              "10000"
            ]
          },
          "metadata": {},
          "execution_count": 9
        }
      ]
    },
    {
      "cell_type": "code",
      "metadata": {
        "colab": {
          "base_uri": "https://localhost:8080/"
        },
        "id": "TM78fUT3T1q2",
        "outputId": "8bde5a24-dd02-4145-c087-d46af5354dc6"
      },
      "source": [
        "len(X_test)"
      ],
      "execution_count": null,
      "outputs": [
        {
          "output_type": "execute_result",
          "data": {
            "text/plain": [
              "2000"
            ]
          },
          "metadata": {},
          "execution_count": 10
        }
      ]
    },
    {
      "cell_type": "code",
      "metadata": {
        "id": "FywwelmDT1q2"
      },
      "source": [
        "# Feature Scaling\n",
        "from sklearn.preprocessing import StandardScaler\n",
        "sc = StandardScaler()\n",
        "X_train = sc.fit_transform(X_train)\n",
        "X_test = sc.transform(X_test)"
      ],
      "execution_count": null,
      "outputs": []
    },
    {
      "cell_type": "code",
      "metadata": {
        "id": "XIJnnqLsT1q2"
      },
      "source": [
        "#Classical ML\n",
        "\n",
        "from sklearn.tree import DecisionTreeClassifier\n",
        "clf = DecisionTreeClassifier()\n",
        "clf.fit(X_train, y_train)\n",
        "pred = clf.predict(X_test)"
      ],
      "execution_count": null,
      "outputs": []
    },
    {
      "cell_type": "code",
      "metadata": {
        "colab": {
          "base_uri": "https://localhost:8080/"
        },
        "id": "Cl8zrMt5T1q2",
        "outputId": "ff2ca17e-8780-455f-b6d9-f55174065c09"
      },
      "source": [
        "# Making the Confusion Matrix\n",
        "from sklearn.metrics import confusion_matrix\n",
        "cm = confusion_matrix(y_test, pred)\n",
        "\n",
        "print(cm)"
      ],
      "execution_count": null,
      "outputs": [
        {
          "output_type": "stream",
          "name": "stdout",
          "text": [
            "[[1363  232]\n",
            " [ 182  223]]\n"
          ]
        }
      ]
    },
    {
      "cell_type": "code",
      "metadata": {
        "colab": {
          "base_uri": "https://localhost:8080/"
        },
        "id": "YeLE1n6cT1q3",
        "outputId": "9b6228ca-61b8-4b0d-d04a-22f0efddcdc9"
      },
      "source": [
        "# Making the Confusion Matrix\n",
        "from sklearn.metrics import accuracy_score\n",
        "\n",
        "score = accuracy_score(y_test,pred)\n",
        "print(score*100)"
      ],
      "execution_count": null,
      "outputs": [
        {
          "output_type": "stream",
          "name": "stdout",
          "text": [
            "79.3\n"
          ]
        }
      ]
    },
    {
      "cell_type": "markdown",
      "metadata": {
        "id": "BLubPu-hXEvM"
      },
      "source": [
        "### Accuracy from Decision Tree Classifier: 80%"
      ]
    },
    {
      "cell_type": "code",
      "metadata": {
        "id": "1JX6jOroT1q3"
      },
      "source": [
        "## Random Forest\n",
        "\n",
        "#Classical ML\n",
        "\n",
        "from sklearn.ensemble import RandomForestClassifier\n",
        "clf2 = RandomForestClassifier(n_estimators=200)\n",
        "clf2.fit(X_train, y_train)\n",
        "pred2 = clf2.predict(X_test)"
      ],
      "execution_count": null,
      "outputs": []
    },
    {
      "cell_type": "code",
      "metadata": {
        "colab": {
          "base_uri": "https://localhost:8080/"
        },
        "id": "7IRTuC3AT1q4",
        "outputId": "fa9c8b5c-27dc-4c68-9157-d17c959b036d"
      },
      "source": [
        "# Making the Confusion Matrix\n",
        "from sklearn.metrics import confusion_matrix\n",
        "cm2 = confusion_matrix(y_test, pred2)\n",
        "\n",
        "print(cm2)"
      ],
      "execution_count": null,
      "outputs": [
        {
          "output_type": "stream",
          "name": "stdout",
          "text": [
            "[[1526   69]\n",
            " [ 199  206]]\n"
          ]
        }
      ]
    },
    {
      "cell_type": "code",
      "metadata": {
        "colab": {
          "base_uri": "https://localhost:8080/"
        },
        "id": "BMyN_HxTT1q4",
        "outputId": "37cfeca3-3068-4137-b9c6-077ba273e953"
      },
      "source": [
        "# Making the Confusion Matrix\n",
        "from sklearn.metrics import accuracy_score\n",
        "\n",
        "score2 = accuracy_score(y_test,pred2)\n",
        "print(score2*100)"
      ],
      "execution_count": null,
      "outputs": [
        {
          "output_type": "stream",
          "name": "stdout",
          "text": [
            "86.6\n"
          ]
        }
      ]
    },
    {
      "cell_type": "markdown",
      "metadata": {
        "id": "W7hA-VNFXMzN"
      },
      "source": [
        "### Accuracy from Random Forest Classifier: 87%"
      ]
    },
    {
      "cell_type": "markdown",
      "metadata": {
        "id": "IHMocNcET1q5"
      },
      "source": [
        "# ANN - Let's get started!!"
      ]
    },
    {
      "cell_type": "code",
      "source": [
        "#pip install keras\n",
        "#pip install tensorflow"
      ],
      "metadata": {
        "id": "_O9Ri_FoTg7O"
      },
      "execution_count": null,
      "outputs": []
    },
    {
      "cell_type": "code",
      "metadata": {
        "id": "4LSGuaa9T1q5"
      },
      "source": [
        "# Now let's make the ANN!\n",
        "\n",
        "# Importing the Keras libraries and packages\n",
        "import keras\n",
        "from keras.models import Sequential\n",
        "from keras.layers import Dense"
      ],
      "execution_count": null,
      "outputs": []
    },
    {
      "cell_type": "code",
      "metadata": {
        "id": "TFXYyJV9T1q5"
      },
      "source": [
        "# Initialising the ANN\n",
        "classifier = Sequential()\n",
        "#units: It's an art, comes by experience, input+output/2\n",
        "#initializer: how your weights are updated\n",
        "#relu activation function\n",
        "#input_dim: input shape (shape of the data, how many features do we have in the data)\n",
        "# Adding the input layer and the first hidden layer\n",
        "classifier.add(Dense(units = 6, kernel_initializer = 'uniform', activation = 'relu', input_dim = 10))\n",
        "\n",
        "# Adding the second hidden layer\n",
        "classifier.add(Dense(units = 6, kernel_initializer = 'uniform', activation = 'relu'))\n",
        "\n",
        "# Adding the third  hidden layer\n",
        "classifier.add(Dense(units = 6, kernel_initializer = 'uniform', activation = 'relu'))\n",
        "\n",
        "# Adding the output layer\n",
        "classifier.add(Dense(units = 1, kernel_initializer = 'uniform', activation = 'sigmoid'))"
      ],
      "execution_count": null,
      "outputs": []
    },
    {
      "cell_type": "code",
      "source": [
        "len(X_train)"
      ],
      "metadata": {
        "colab": {
          "base_uri": "https://localhost:8080/"
        },
        "id": "Nvt6x0N0pzso",
        "outputId": "9128404b-4c6b-4158-f647-3e0e93c2798d"
      },
      "execution_count": null,
      "outputs": [
        {
          "output_type": "execute_result",
          "data": {
            "text/plain": [
              "8000"
            ]
          },
          "metadata": {},
          "execution_count": 21
        }
      ]
    },
    {
      "cell_type": "code",
      "metadata": {
        "colab": {
          "base_uri": "https://localhost:8080/"
        },
        "id": "W_8ubUVOT1q6",
        "outputId": "5f44d809-7d9b-476d-9f3e-845dbb16203c"
      },
      "source": [
        "# Compiling the ANN\n",
        "classifier.compile(optimizer = 'adam', loss = 'binary_crossentropy', metrics = ['accuracy'])\n",
        "y_train[0]\n",
        "# Fitting the ANN to the Training set\n",
        "classifier.fit(X_train, y_train, batch_size = 10, epochs = 50)"
      ],
      "execution_count": null,
      "outputs": [
        {
          "output_type": "stream",
          "name": "stdout",
          "text": [
            "Epoch 1/50\n",
            "800/800 [==============================] - 3s 2ms/step - loss: 0.4885 - accuracy: 0.7960\n",
            "Epoch 2/50\n",
            "800/800 [==============================] - 2s 3ms/step - loss: 0.4315 - accuracy: 0.7960\n",
            "Epoch 3/50\n",
            "800/800 [==============================] - 2s 3ms/step - loss: 0.4261 - accuracy: 0.8005\n",
            "Epoch 4/50\n",
            "800/800 [==============================] - 2s 2ms/step - loss: 0.4222 - accuracy: 0.8217\n",
            "Epoch 5/50\n",
            "800/800 [==============================] - 2s 2ms/step - loss: 0.4206 - accuracy: 0.8264\n",
            "Epoch 6/50\n",
            "800/800 [==============================] - 1s 2ms/step - loss: 0.4189 - accuracy: 0.8301\n",
            "Epoch 7/50\n",
            "800/800 [==============================] - 1s 2ms/step - loss: 0.4174 - accuracy: 0.8317\n",
            "Epoch 8/50\n",
            "800/800 [==============================] - 1s 2ms/step - loss: 0.4158 - accuracy: 0.8311\n",
            "Epoch 9/50\n",
            "800/800 [==============================] - 2s 2ms/step - loss: 0.4150 - accuracy: 0.8332\n",
            "Epoch 10/50\n",
            "800/800 [==============================] - 1s 2ms/step - loss: 0.4140 - accuracy: 0.8329\n",
            "Epoch 11/50\n",
            "800/800 [==============================] - 2s 2ms/step - loss: 0.4131 - accuracy: 0.8341\n",
            "Epoch 12/50\n",
            "800/800 [==============================] - 2s 3ms/step - loss: 0.4124 - accuracy: 0.8339\n",
            "Epoch 13/50\n",
            "800/800 [==============================] - 1s 2ms/step - loss: 0.4113 - accuracy: 0.8340\n",
            "Epoch 14/50\n",
            "800/800 [==============================] - 2s 2ms/step - loss: 0.4102 - accuracy: 0.8355\n",
            "Epoch 15/50\n",
            "800/800 [==============================] - 2s 2ms/step - loss: 0.4093 - accuracy: 0.8345\n",
            "Epoch 16/50\n",
            "800/800 [==============================] - 1s 2ms/step - loss: 0.4087 - accuracy: 0.8342\n",
            "Epoch 17/50\n",
            "800/800 [==============================] - 1s 2ms/step - loss: 0.4079 - accuracy: 0.8349\n",
            "Epoch 18/50\n",
            "800/800 [==============================] - 2s 2ms/step - loss: 0.4070 - accuracy: 0.8344\n",
            "Epoch 19/50\n",
            "800/800 [==============================] - 1s 2ms/step - loss: 0.4061 - accuracy: 0.8341\n",
            "Epoch 20/50\n",
            "800/800 [==============================] - 1s 2ms/step - loss: 0.4058 - accuracy: 0.8350\n",
            "Epoch 21/50\n",
            "800/800 [==============================] - 2s 2ms/step - loss: 0.4053 - accuracy: 0.8346\n",
            "Epoch 22/50\n",
            "800/800 [==============================] - 1s 2ms/step - loss: 0.4051 - accuracy: 0.8349\n",
            "Epoch 23/50\n",
            "800/800 [==============================] - 1s 2ms/step - loss: 0.4045 - accuracy: 0.8354\n",
            "Epoch 24/50\n",
            "800/800 [==============================] - 1s 2ms/step - loss: 0.4038 - accuracy: 0.8359\n",
            "Epoch 25/50\n",
            "800/800 [==============================] - 1s 2ms/step - loss: 0.4038 - accuracy: 0.8347\n",
            "Epoch 26/50\n",
            "800/800 [==============================] - 1s 2ms/step - loss: 0.4038 - accuracy: 0.8353\n",
            "Epoch 27/50\n",
            "800/800 [==============================] - 2s 2ms/step - loss: 0.4029 - accuracy: 0.8353\n",
            "Epoch 28/50\n",
            "800/800 [==============================] - 1s 2ms/step - loss: 0.4032 - accuracy: 0.8334\n",
            "Epoch 29/50\n",
            "800/800 [==============================] - 1s 2ms/step - loss: 0.4032 - accuracy: 0.8347\n",
            "Epoch 30/50\n",
            "800/800 [==============================] - 1s 2ms/step - loss: 0.4028 - accuracy: 0.8353\n",
            "Epoch 31/50\n",
            "800/800 [==============================] - 2s 2ms/step - loss: 0.4025 - accuracy: 0.8349\n",
            "Epoch 32/50\n",
            "800/800 [==============================] - 1s 2ms/step - loss: 0.4024 - accuracy: 0.8356\n",
            "Epoch 33/50\n",
            "800/800 [==============================] - 2s 2ms/step - loss: 0.4021 - accuracy: 0.8350\n",
            "Epoch 34/50\n",
            "800/800 [==============================] - 1s 2ms/step - loss: 0.4022 - accuracy: 0.8353\n",
            "Epoch 35/50\n",
            "800/800 [==============================] - 1s 2ms/step - loss: 0.4023 - accuracy: 0.8346\n",
            "Epoch 36/50\n",
            "800/800 [==============================] - 1s 2ms/step - loss: 0.4024 - accuracy: 0.8340\n",
            "Epoch 37/50\n",
            "800/800 [==============================] - 2s 2ms/step - loss: 0.4019 - accuracy: 0.8360\n",
            "Epoch 38/50\n",
            "800/800 [==============================] - 2s 2ms/step - loss: 0.4019 - accuracy: 0.8340\n",
            "Epoch 39/50\n",
            "800/800 [==============================] - 1s 2ms/step - loss: 0.4016 - accuracy: 0.8331\n",
            "Epoch 40/50\n",
            "800/800 [==============================] - 1s 2ms/step - loss: 0.4014 - accuracy: 0.8361\n",
            "Epoch 41/50\n",
            "800/800 [==============================] - 2s 2ms/step - loss: 0.4014 - accuracy: 0.8360\n",
            "Epoch 42/50\n",
            "800/800 [==============================] - 1s 2ms/step - loss: 0.4018 - accuracy: 0.8341\n",
            "Epoch 43/50\n",
            "800/800 [==============================] - 2s 2ms/step - loss: 0.4015 - accuracy: 0.8350\n",
            "Epoch 44/50\n",
            "800/800 [==============================] - 2s 2ms/step - loss: 0.4013 - accuracy: 0.8350\n",
            "Epoch 45/50\n",
            "800/800 [==============================] - 1s 2ms/step - loss: 0.4014 - accuracy: 0.8342\n",
            "Epoch 46/50\n",
            "800/800 [==============================] - 1s 2ms/step - loss: 0.4010 - accuracy: 0.8360\n",
            "Epoch 47/50\n",
            "800/800 [==============================] - 1s 2ms/step - loss: 0.4012 - accuracy: 0.8357\n",
            "Epoch 48/50\n",
            "800/800 [==============================] - 2s 2ms/step - loss: 0.4012 - accuracy: 0.8361\n",
            "Epoch 49/50\n",
            "800/800 [==============================] - 2s 2ms/step - loss: 0.4009 - accuracy: 0.8341\n",
            "Epoch 50/50\n",
            "800/800 [==============================] - 2s 3ms/step - loss: 0.4008 - accuracy: 0.8354\n"
          ]
        },
        {
          "output_type": "execute_result",
          "data": {
            "text/plain": [
              "<keras.callbacks.History at 0x7f895b34eb90>"
            ]
          },
          "metadata": {},
          "execution_count": 22
        }
      ]
    },
    {
      "cell_type": "code",
      "metadata": {
        "colab": {
          "base_uri": "https://localhost:8080/"
        },
        "id": "fYZeYabdT1q6",
        "outputId": "add7ce0a-8f2e-45cc-ac63-3cc0849719fe"
      },
      "source": [
        "# Part 3 - Making predictions and evaluating the model\n",
        "# Predicting the Test set results\n",
        "y_pred_ann = classifier.predict(X_test)\n",
        "y_pred_ann = (y_pred_ann > 0.5)\n",
        "\n",
        "cm3 = confusion_matrix(y_test, y_pred_ann)\n",
        "print(cm3)"
      ],
      "execution_count": null,
      "outputs": [
        {
          "output_type": "stream",
          "name": "stdout",
          "text": [
            "63/63 [==============================] - 0s 1ms/step\n",
            "[[1535   60]\n",
            " [ 256  149]]\n"
          ]
        }
      ]
    },
    {
      "cell_type": "code",
      "metadata": {
        "colab": {
          "base_uri": "https://localhost:8080/"
        },
        "id": "faw0gzp1T1q7",
        "outputId": "4584a3e7-d325-40fc-8e51-72997ee668b8"
      },
      "source": [
        "# Making the Confusion Matrix\n",
        "from sklearn.metrics import accuracy_score\n",
        "\n",
        "score3 = accuracy_score(y_test,y_pred_ann)\n",
        "print(score3*100)"
      ],
      "execution_count": null,
      "outputs": [
        {
          "output_type": "stream",
          "name": "stdout",
          "text": [
            "84.2\n"
          ]
        }
      ]
    },
    {
      "cell_type": "markdown",
      "metadata": {
        "id": "Y135N57oX4yy"
      },
      "source": [
        "### Accuracy from ANN: 84%"
      ]
    },
    {
      "cell_type": "markdown",
      "metadata": {
        "id": "wED95us0X7Zi"
      },
      "source": [
        "## Conclusion:\n",
        "\n",
        "So, as we have already seen, by using 2 hidden layered ANN, we aren't able to get beyond 85% accuracy, ofcourse we can get higher accuracy by increasing the epochs & doing some hyperparameter tuning, so on the other hand, the classical models can also be tuned further.\n",
        "\n",
        "Bottomline, always start with classical machine learning models, and if we aren't able to increase the performance, then move towards Deep Learning techniques :)"
      ]
    },
    {
      "cell_type": "markdown",
      "metadata": {
        "id": "FHg8TDeuYW9H"
      },
      "source": [
        "# Hyper Parameter Tuning - Run at your own risk 👍👍\n",
        "\n",
        "\n"
      ]
    },
    {
      "cell_type": "code",
      "metadata": {
        "id": "aNCEMiLPT1q7",
        "colab": {
          "base_uri": "https://localhost:8080/"
        },
        "outputId": "7f922fd7-a723-4d25-8ad9-96de2a86ba68"
      },
      "source": [
        "# Predicting a single new observation\n",
        "\"\"\"Predict if the customer with the following informations will leave the bank:\n",
        "Geography: France\n",
        "Credit Score: 600\n",
        "Gender: Male\n",
        "Age: 40\n",
        "Tenure: 3\n",
        "Balance: 60000\n",
        "Number of Products: 2\n",
        "Has Credit Card: Yes\n",
        "Is Active Member: Yes\n",
        "Estimated Salary: 50000\"\"\"\n",
        "new_prediction = classifier.predict(sc.transform(np.array([[600, 0, 1, 40, 3, 60000, 2, 1, 1, 50000]])))\n",
        "new_prediction = (new_prediction > 0.5)\n",
        "new_prediction\n",
        "# Making the Confusion Matrix\n",
        "#from sklearn.metrics import confusion_matrix\n",
        "#cm = confusion_matrix(y_test, y_pred)"
      ],
      "execution_count": null,
      "outputs": [
        {
          "output_type": "execute_result",
          "data": {
            "text/plain": [
              "array([[False]])"
            ]
          },
          "metadata": {},
          "execution_count": 26
        }
      ]
    },
    {
      "cell_type": "code",
      "metadata": {
        "id": "n15xFJbHYm6D",
        "colab": {
          "base_uri": "https://localhost:8080/"
        },
        "outputId": "85fb6823-0e50-42d0-e1d2-f7406c907739"
      },
      "source": [
        "#Importing few libraries for k-folds\n",
        "from keras.wrappers.scikit_learn import KerasClassifier\n",
        "from sklearn.model_selection import cross_val_score\n",
        "from keras.models import Sequential\n",
        "from keras.layers import Dense\n",
        "\n",
        "def build_classifier():\n",
        "    classifier = Sequential()\n",
        "    classifier.add(Dense(units = 6, kernel_initializer = 'uniform', activation = 'relu', input_dim = 10))\n",
        "    classifier.add(Dense(units = 6, kernel_initializer = 'uniform', activation = 'relu'))\n",
        "    classifier.add(Dense(units = 1, kernel_initializer = 'uniform', activation = 'sigmoid'))\n",
        "    classifier.compile(optimizer = 'adam', loss = 'binary_crossentropy', metrics = ['accuracy'])\n",
        "    return classifier\n",
        "\n",
        "classifier = KerasClassifier(build_fn = build_classifier, batch_size = 10, epochs = 10)\n",
        "\n",
        "accuracies = cross_val_score(estimator = classifier, X = X_train, y = y_train, cv =10, n_jobs = -1 )\n",
        "mean1 = accuracies.mean()\n",
        "variance = accuracies.std()"
      ],
      "execution_count": null,
      "outputs": [
        {
          "output_type": "stream",
          "name": "stderr",
          "text": [
            "/usr/local/lib/python3.7/dist-packages/ipykernel_launcher.py:15: DeprecationWarning: KerasClassifier is deprecated, use Sci-Keras (https://github.com/adriangb/scikeras) instead. See https://www.adriangb.com/scikeras/stable/migration.html for help migrating.\n",
            "  from ipykernel import kernelapp as app\n"
          ]
        }
      ]
    },
    {
      "cell_type": "code",
      "source": [
        "variance"
      ],
      "metadata": {
        "colab": {
          "base_uri": "https://localhost:8080/"
        },
        "id": "kW237sfWwWiR",
        "outputId": "495983fc-585d-466a-f21f-d41c838e3352"
      },
      "execution_count": null,
      "outputs": [
        {
          "output_type": "execute_result",
          "data": {
            "text/plain": [
              "0.009657399309785705"
            ]
          },
          "metadata": {},
          "execution_count": 28
        }
      ]
    },
    {
      "cell_type": "code",
      "source": [
        "accuracies"
      ],
      "metadata": {
        "colab": {
          "base_uri": "https://localhost:8080/"
        },
        "id": "-2rahrDowbj4",
        "outputId": "69c98781-61d5-473f-a200-85b6f44be23b"
      },
      "execution_count": null,
      "outputs": [
        {
          "output_type": "execute_result",
          "data": {
            "text/plain": [
              "array([0.83749998, 0.83999997, 0.82999998, 0.81875002, 0.85124999,\n",
              "       0.82875001, 0.83249998, 0.83625001, 0.81875002, 0.84249997])"
            ]
          },
          "metadata": {},
          "execution_count": 29
        }
      ]
    },
    {
      "cell_type": "code",
      "source": [
        "mean1"
      ],
      "metadata": {
        "colab": {
          "base_uri": "https://localhost:8080/"
        },
        "id": "7MkNokvdwVeI",
        "outputId": "ce6e1fc3-f4de-4c25-a14e-16507b9ac2d0"
      },
      "execution_count": null,
      "outputs": [
        {
          "output_type": "execute_result",
          "data": {
            "text/plain": [
              "0.8336249947547912"
            ]
          },
          "metadata": {},
          "execution_count": 30
        }
      ]
    },
    {
      "cell_type": "code",
      "metadata": {
        "id": "lyLf43qvT1q8",
        "colab": {
          "base_uri": "https://localhost:8080/"
        },
        "outputId": "fd3ab799-b176-4b17-b8fe-45699c6b0fcf"
      },
      "source": [
        "#Improvising the ANN - Hyper parameter optimization\n",
        "\n",
        "from keras.wrappers.scikit_learn import KerasClassifier\n",
        "from sklearn.model_selection import cross_val_score\n",
        "from sklearn.model_selection import GridSearchCV\n",
        "from keras.models import Sequential\n",
        "from keras.layers import Dense\n",
        "\n",
        "\n",
        "def build_classifier():\n",
        "    classifier = Sequential()\n",
        "    classifier.add(Dense(units = 6, kernel_initializer = 'uniform', activation = 'relu', input_dim = 10))\n",
        "    classifier.add(Dense(units = 6, kernel_initializer = 'uniform', activation = 'relu'))\n",
        "    classifier.add(Dense(units = 1, kernel_initializer = 'uniform', activation = 'sigmoid'))\n",
        "    classifier.compile(optimizer = 'adam', loss = 'binary_crossentropy', metrics = ['accuracy'])\n",
        "    return classifier\n",
        "\n",
        "\n",
        "classifier = KerasClassifier(build_fn = build_classifier)\n",
        "\n",
        "parameters = {'batch_size': [10, 20],\n",
        "              'epochs': [5, 6]}\n",
        "\n",
        "              # Total combinations: 4\n",
        "\n",
        "grid_search = GridSearchCV(estimator = classifier, param_grid = parameters, scoring = 'accuracy', n_jobs = -1, cv = 5)\n",
        "grid_search = grid_search.fit(X_train, y_train)\n",
        "grid_search.best_params_\n",
        "grid_search.best_score_"
      ],
      "execution_count": null,
      "outputs": [
        {
          "output_type": "stream",
          "name": "stderr",
          "text": [
            "/usr/local/lib/python3.7/dist-packages/ipykernel_launcher.py:19: DeprecationWarning: KerasClassifier is deprecated, use Sci-Keras (https://github.com/adriangb/scikeras) instead. See https://www.adriangb.com/scikeras/stable/migration.html for help migrating.\n"
          ]
        },
        {
          "output_type": "stream",
          "name": "stdout",
          "text": [
            "Epoch 1/6\n",
            "800/800 [==============================] - 2s 1ms/step - loss: 0.4852 - accuracy: 0.7958\n",
            "Epoch 2/6\n",
            "800/800 [==============================] - 1s 2ms/step - loss: 0.4316 - accuracy: 0.7960\n",
            "Epoch 3/6\n",
            "800/800 [==============================] - 1s 1ms/step - loss: 0.4254 - accuracy: 0.8104\n",
            "Epoch 4/6\n",
            "800/800 [==============================] - 1s 1ms/step - loss: 0.4189 - accuracy: 0.8278\n",
            "Epoch 5/6\n",
            "800/800 [==============================] - 1s 1ms/step - loss: 0.4140 - accuracy: 0.8325\n",
            "Epoch 6/6\n",
            "800/800 [==============================] - 1s 1ms/step - loss: 0.4106 - accuracy: 0.8331\n"
          ]
        },
        {
          "output_type": "execute_result",
          "data": {
            "text/plain": [
              "0.8256249999999999"
            ]
          },
          "metadata": {},
          "execution_count": 31
        }
      ]
    },
    {
      "cell_type": "code",
      "source": [
        "grid_search.best_params_"
      ],
      "metadata": {
        "colab": {
          "base_uri": "https://localhost:8080/"
        },
        "id": "xtMOH67XxG7a",
        "outputId": "171682b5-004a-4487-85e0-e2dd827d50da"
      },
      "execution_count": null,
      "outputs": [
        {
          "output_type": "execute_result",
          "data": {
            "text/plain": [
              "{'batch_size': 10, 'epochs': 6}"
            ]
          },
          "metadata": {},
          "execution_count": 32
        }
      ]
    },
    {
      "cell_type": "code",
      "source": [
        "grid_search.best_score_"
      ],
      "metadata": {
        "colab": {
          "base_uri": "https://localhost:8080/"
        },
        "id": "OSOjzta0xIHq",
        "outputId": "97bec45a-96c8-4000-8a72-5c257dc1ad4a"
      },
      "execution_count": null,
      "outputs": [
        {
          "output_type": "execute_result",
          "data": {
            "text/plain": [
              "0.8256249999999999"
            ]
          },
          "metadata": {},
          "execution_count": 33
        }
      ]
    },
    {
      "cell_type": "code",
      "metadata": {
        "id": "7KWR-QFbT1q9"
      },
      "source": [
        "#Improvising the ANN - Hyper parameter optimization, adding more hyperparameters\n",
        "######################################\n",
        "######################################\n",
        "######################################\n",
        "######################################\n",
        "#TO DO TASK\n",
        "######################################\n",
        "######################################\n",
        "######################################\n",
        "######################################\n",
        "\n",
        "from keras.wrappers.scikit_learn import KerasClassifier\n",
        "from sklearn.model_selection import cross_val_score\n",
        "from sklearn.model_selection import GridSearchCV\n",
        "from keras.models import Sequential\n",
        "from keras.layers import Dense\n",
        "def build_classifier(loss, optimizer):\n",
        "    classifier = Sequential()\n",
        "    classifier.add(Dense(units = 6, kernel_initializer = 'uniform', activation = 'relu', input_dim = 10))\n",
        "    classifier.add(Dense(units = 6, kernel_initializer = 'uniform', activation = 'relu'))\n",
        "    classifier.add(Dense(units = 6, kernel_initializer = 'uniform', activation = 'relu'))\n",
        "    classifier.add(Dense(units = 6, kernel_initializer = 'uniform', activation = 'relu'))\n",
        "    classifier.add(Dense(units = 1, kernel_initializer = 'uniform', activation = 'sigmoid'))\n",
        "    classifier.compile(optimizer = optimizer, loss = loss, metrics = ['accuracy'])\n",
        "    return classifier\n",
        "\n",
        "\n",
        "classifier = KerasClassifier(build_fn = build_classifier)\n",
        "\n",
        "parameters = {'batch_size': [10,20, 30, 50],\n",
        "              'epochs': [10,50,100,200],\n",
        "              'loss': ['binary_crossentropy', 'categorical_crossentropy'],\n",
        "              'optimizer': ['adam', 'rmsprop']}\n",
        "\n",
        "grid_search = GridSearchCV(estimator = classifier, param_grid = parameters, scoring = 'accuracy', n_jobs = -1, cv = 10)\n",
        "\n",
        "grid_search = grid_search.fit(X_train, y_train)"
      ],
      "execution_count": null,
      "outputs": []
    },
    {
      "cell_type": "code",
      "metadata": {
        "id": "rnleZrAipsWY"
      },
      "source": [
        "tuple1 = ([2,3,4],6,7)"
      ],
      "execution_count": null,
      "outputs": []
    },
    {
      "cell_type": "code",
      "metadata": {
        "id": "iJDIO9mOT1q9"
      },
      "source": [
        "tuple1[0][1]=5"
      ],
      "execution_count": null,
      "outputs": []
    },
    {
      "cell_type": "code",
      "metadata": {
        "id": "2nS4wF3qp2GL",
        "colab": {
          "base_uri": "https://localhost:8080/"
        },
        "outputId": "2ab02b5e-d017-4abb-ac9a-4c728779031c"
      },
      "source": [
        "tuple1"
      ],
      "execution_count": null,
      "outputs": [
        {
          "output_type": "execute_result",
          "data": {
            "text/plain": [
              "([2, 5, 4], 6, 7)"
            ]
          },
          "metadata": {
            "tags": []
          },
          "execution_count": 4
        }
      ]
    },
    {
      "cell_type": "markdown",
      "source": [
        "## Improvising the performance of ANN\n",
        "\n",
        "1. Increasing the number of hidden layers\n",
        "2. Increasing the number of epochs\n",
        "3. Fine-tuning the parameters - optimizers, batch_size, epochs\n",
        "4. Dropout regularization: Dropout(0.25)\n",
        "\n",
        "Overfitting problem --> training accuracy increases, but test accuracy is low"
      ],
      "metadata": {
        "id": "syw31pp9cYaQ"
      }
    },
    {
      "cell_type": "code",
      "metadata": {
        "id": "Q-0k48_3p46O"
      },
      "source": [],
      "execution_count": null,
      "outputs": []
    }
  ]
}