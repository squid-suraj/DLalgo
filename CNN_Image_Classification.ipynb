{
  "nbformat": 4,
  "nbformat_minor": 0,
  "metadata": {
    "kernelspec": {
      "name": "python3",
      "display_name": "Python 3"
    },
    "language_info": {
      "codemirror_mode": {
        "name": "ipython",
        "version": 3
      },
      "file_extension": ".py",
      "mimetype": "text/x-python",
      "name": "python",
      "nbconvert_exporter": "python",
      "pygments_lexer": "ipython3",
      "version": "3.7.1"
    },
    "colab": {
      "name": "CNN: Image Classification.ipynb",
      "provenance": [],
      "collapsed_sections": []
    },
    "accelerator": "GPU"
  },
  "cells": [
    {
      "cell_type": "code",
      "metadata": {
        "id": "8CkQNwIRRQ0b"
      },
      "source": [
        "import tensorflow as tf\n",
        "from tensorflow import keras\n",
        "from keras.datasets import fashion_mnist\n",
        "from keras.models import Sequential\n",
        "from keras.layers import Dense, Dropout, Flatten\n",
        "# Dropout Regularization: To get rid of overfitting problem\n",
        "from keras.layers import Conv2D, MaxPooling2D\n",
        "from keras import backend as K"
      ],
      "execution_count": null,
      "outputs": []
    },
    {
      "cell_type": "code",
      "metadata": {
        "colab": {
          "base_uri": "https://localhost:8080/"
        },
        "id": "ineZ1ik2yB2D",
        "outputId": "996df915-d6a4-4363-de4b-b73ca16959a2"
      },
      "source": [
        "from google.colab import drive\n",
        "drive.mount('/content/drive')"
      ],
      "execution_count": null,
      "outputs": [
        {
          "output_type": "stream",
          "name": "stdout",
          "text": [
            "Mounted at /content/drive\n"
          ]
        }
      ]
    },
    {
      "cell_type": "code",
      "metadata": {
        "id": "fE4iojmERQ0f"
      },
      "source": [
        "# Number of classes - do not change unless the data changes\n",
        "num_classes = 10"
      ],
      "execution_count": null,
      "outputs": []
    },
    {
      "cell_type": "code",
      "metadata": {
        "id": "QoB4vOsURQ0i"
      },
      "source": [
        "# sizes of batch and # of epochs of data\n",
        "batch_size = 64\n",
        "epochs = 24"
      ],
      "execution_count": null,
      "outputs": []
    },
    {
      "cell_type": "code",
      "metadata": {
        "id": "q-gR7ZiHRQ0k"
      },
      "source": [
        "# input image dimensions\n",
        "img_rows, img_cols = 28, 28"
      ],
      "execution_count": null,
      "outputs": []
    },
    {
      "cell_type": "code",
      "metadata": {
        "id": "qdmqkrslRQ0n",
        "colab": {
          "base_uri": "https://localhost:8080/"
        },
        "outputId": "6d5cdca6-b1bc-485a-91ae-d57bd471fd41"
      },
      "source": [
        "# the data, shuffled and split between train and test sets\n",
        "(x_train, y_train), (x_test, y_test) = fashion_mnist.load_data()  "
      ],
      "execution_count": null,
      "outputs": [
        {
          "output_type": "stream",
          "name": "stdout",
          "text": [
            "Downloading data from https://storage.googleapis.com/tensorflow/tf-keras-datasets/train-labels-idx1-ubyte.gz\n",
            "32768/29515 [=================================] - 0s 0us/step\n",
            "40960/29515 [=========================================] - 0s 0us/step\n",
            "Downloading data from https://storage.googleapis.com/tensorflow/tf-keras-datasets/train-images-idx3-ubyte.gz\n",
            "26427392/26421880 [==============================] - 0s 0us/step\n",
            "26435584/26421880 [==============================] - 0s 0us/step\n",
            "Downloading data from https://storage.googleapis.com/tensorflow/tf-keras-datasets/t10k-labels-idx1-ubyte.gz\n",
            "16384/5148 [===============================================================================================] - 0s 0us/step\n",
            "Downloading data from https://storage.googleapis.com/tensorflow/tf-keras-datasets/t10k-images-idx3-ubyte.gz\n",
            "4423680/4422102 [==============================] - 0s 0us/step\n",
            "4431872/4422102 [==============================] - 0s 0us/step\n"
          ]
        }
      ]
    },
    {
      "cell_type": "code",
      "metadata": {
        "id": "JC7QUvvsRQ0q",
        "colab": {
          "base_uri": "https://localhost:8080/"
        },
        "outputId": "0759d491-38e6-476c-dfd4-5594ace128a9"
      },
      "source": [
        "x_train.shape"
      ],
      "execution_count": null,
      "outputs": [
        {
          "output_type": "execute_result",
          "data": {
            "text/plain": [
              "(60000, 28, 28)"
            ]
          },
          "metadata": {},
          "execution_count": 6
        }
      ]
    },
    {
      "cell_type": "code",
      "source": [
        "x_test.shape"
      ],
      "metadata": {
        "colab": {
          "base_uri": "https://localhost:8080/"
        },
        "id": "6fUgQTWfzYuG",
        "outputId": "f7b4fdd3-80aa-48cf-9296-efe481871d15"
      },
      "execution_count": null,
      "outputs": [
        {
          "output_type": "execute_result",
          "data": {
            "text/plain": [
              "(10000, 28, 28)"
            ]
          },
          "metadata": {},
          "execution_count": 7
        }
      ]
    },
    {
      "cell_type": "code",
      "metadata": {
        "id": "DhCUurwFRQ0u",
        "colab": {
          "base_uri": "https://localhost:8080/"
        },
        "outputId": "8e3091cf-32d5-486f-d392-65f88d191a7a"
      },
      "source": [
        "len(y_train)"
      ],
      "execution_count": null,
      "outputs": [
        {
          "output_type": "execute_result",
          "data": {
            "text/plain": [
              "60000"
            ]
          },
          "metadata": {},
          "execution_count": 8
        }
      ]
    },
    {
      "cell_type": "code",
      "metadata": {
        "id": "rReJ6_uBRQ0x",
        "colab": {
          "base_uri": "https://localhost:8080/"
        },
        "outputId": "ac71a33e-68b5-46c0-b11d-ff3259342fb5"
      },
      "source": [
        "y_train"
      ],
      "execution_count": null,
      "outputs": [
        {
          "output_type": "execute_result",
          "data": {
            "text/plain": [
              "array([9, 0, 0, ..., 3, 0, 5], dtype=uint8)"
            ]
          },
          "metadata": {},
          "execution_count": 9
        }
      ]
    },
    {
      "cell_type": "code",
      "metadata": {
        "colab": {
          "base_uri": "https://localhost:8080/"
        },
        "id": "CuyvpUYeJS9b",
        "outputId": "03ff15a7-731d-44de-bf2a-d0025fb7e016"
      },
      "source": [
        "x_train.shape[0]"
      ],
      "execution_count": null,
      "outputs": [
        {
          "output_type": "execute_result",
          "data": {
            "text/plain": [
              "60000"
            ]
          },
          "metadata": {},
          "execution_count": 10
        }
      ]
    },
    {
      "cell_type": "code",
      "metadata": {
        "id": "_EG8gMuYRQ0z"
      },
      "source": [
        "x_train = x_train.reshape(x_train.shape[0], img_rows, img_cols, 1)\n",
        "x_test = x_test.reshape(x_test.shape[0], img_rows, img_cols, 1)\n",
        "input_shape = (img_rows, img_cols, 1)"
      ],
      "execution_count": null,
      "outputs": []
    },
    {
      "cell_type": "code",
      "source": [
        "input_shape"
      ],
      "metadata": {
        "colab": {
          "base_uri": "https://localhost:8080/"
        },
        "id": "Gk6blpGa1US4",
        "outputId": "058a8d92-8be2-4845-a6bf-cf4c4c539f0e"
      },
      "execution_count": null,
      "outputs": [
        {
          "output_type": "execute_result",
          "data": {
            "text/plain": [
              "(28, 28, 1)"
            ]
          },
          "metadata": {},
          "execution_count": 32
        }
      ]
    },
    {
      "cell_type": "code",
      "metadata": {
        "colab": {
          "base_uri": "https://localhost:8080/"
        },
        "id": "EuHWPrKgJdnr",
        "outputId": "686cf24e-985d-487f-db93-00f92391346d"
      },
      "source": [
        "x_train.shape"
      ],
      "execution_count": null,
      "outputs": [
        {
          "output_type": "execute_result",
          "data": {
            "text/plain": [
              "(60000, 28, 28, 1)"
            ]
          },
          "metadata": {},
          "execution_count": 12
        }
      ]
    },
    {
      "cell_type": "code",
      "metadata": {
        "id": "a7IttxCCRQ02",
        "colab": {
          "base_uri": "https://localhost:8080/"
        },
        "outputId": "36e3d2a4-0c65-451d-86d5-3614d7db54be"
      },
      "source": [
        "#   Type convert and scale the test and training data\n",
        "x_train = x_train.astype('float32')\n",
        "x_test = x_test.astype('float32')\n",
        "x_train /= 255.\n",
        "x_test /= 255.\n",
        "print('x_train shape:', x_train.shape)\n",
        "print('x_test shape:', x_test.shape)\n",
        "print(y_train[0:3])\n",
        "\n"
      ],
      "execution_count": null,
      "outputs": [
        {
          "output_type": "stream",
          "name": "stdout",
          "text": [
            "x_train shape: (60000, 28, 28, 1)\n",
            "x_test shape: (10000, 28, 28, 1)\n",
            "[9 0 0]\n"
          ]
        }
      ]
    },
    {
      "cell_type": "code",
      "metadata": {
        "id": "y4dq1tP4RQ05",
        "colab": {
          "base_uri": "https://localhost:8080/"
        },
        "outputId": "4d865f9a-8d9a-4add-fcb3-237065e528d5"
      },
      "source": [
        "# convert class vectors to binary class matrices.  One-hot encoding\n",
        "#  3 => 0 0 0 1 0 0 0 0 0 0 and 1 => 0 1 0 0 0 0 0 0 0 0 \n",
        "y_train = tf.keras.utils.to_categorical(y_train, num_classes)\n",
        "y_test = tf.keras.utils.to_categorical(y_test, num_classes)\n",
        "print(y_train[0:2])   # verify one-hot encoding"
      ],
      "execution_count": null,
      "outputs": [
        {
          "output_type": "stream",
          "name": "stdout",
          "text": [
            "[[0. 0. 0. 0. 0. 0. 0. 0. 0. 1.]\n",
            " [1. 0. 0. 0. 0. 0. 0. 0. 0. 0.]]\n"
          ]
        }
      ]
    },
    {
      "cell_type": "markdown",
      "source": [
        "## CNN code"
      ],
      "metadata": {
        "id": "ZE4h53wjYSSi"
      }
    },
    {
      "cell_type": "code",
      "metadata": {
        "id": "YxW4h7oNRQ07"
      },
      "source": [
        "# Define the model\n",
        "model = Sequential()"
      ],
      "execution_count": null,
      "outputs": []
    },
    {
      "cell_type": "code",
      "metadata": {
        "colab": {
          "base_uri": "https://localhost:8080/"
        },
        "id": "BzcSACRTMDl1",
        "outputId": "21d0564b-dbaf-43d4-8d55-8003b7477cde"
      },
      "source": [
        "num_classes"
      ],
      "execution_count": null,
      "outputs": [
        {
          "output_type": "execute_result",
          "data": {
            "text/plain": [
              "10"
            ]
          },
          "metadata": {},
          "execution_count": 16
        }
      ]
    },
    {
      "cell_type": "code",
      "metadata": {
        "id": "IBMFXKH8RQ0-"
      },
      "source": [
        "# Create a CNN to classify the images\n",
        "model.add(Conv2D(32, kernel_size=(3, 3),\n",
        "                  activation='relu',\n",
        "                  input_shape=input_shape))\n",
        "model.add(MaxPooling2D(pool_size=(2, 2)))\n",
        "model.add(Conv2D(32, kernel_size=(3, 3), activation='relu'))\n",
        "model.add(MaxPooling2D(pool_size=(2, 2)))\n",
        "model.add(Flatten())\n",
        "model.add(Dense(128, activation='relu'))\n",
        "model.add(Dense(64, activation='relu'))\n",
        "#model.add(Dropout(0.5))\n",
        "model.add(Dense(num_classes, activation='softmax'))"
      ],
      "execution_count": null,
      "outputs": []
    },
    {
      "cell_type": "code",
      "metadata": {
        "id": "8QJFPp1oRQ1B",
        "colab": {
          "base_uri": "https://localhost:8080/"
        },
        "outputId": "a765b8bf-7502-454c-9e48-df12e2b545bc"
      },
      "source": [
        "#   define compile to minimize categorical loss, use some optimizer to optimize, and optimize to maximizing accuracy\n",
        "model.compile(loss=keras.losses.categorical_crossentropy,\n",
        "              optimizer=keras.optimizers.Adam(),\n",
        "              metrics=['accuracy'])\n",
        "\n",
        "#   Train the model and test/validate the mode with the test data after each cycle (epoch) through the training data\n",
        "#   Return history of loss and accuracy for each epoch\n",
        "hist = model.fit(x_train, y_train,\n",
        "          batch_size=64,\n",
        "          epochs=24,\n",
        "          verbose=1,\n",
        "          validation_data=(x_test, y_test))\n",
        "\n"
      ],
      "execution_count": null,
      "outputs": [
        {
          "output_type": "stream",
          "name": "stdout",
          "text": [
            "Epoch 1/24\n",
            "938/938 [==============================] - 17s 8ms/step - loss: 0.5268 - accuracy: 0.8094 - val_loss: 0.3834 - val_accuracy: 0.8634\n",
            "Epoch 2/24\n",
            "938/938 [==============================] - 7s 7ms/step - loss: 0.3391 - accuracy: 0.8771 - val_loss: 0.3472 - val_accuracy: 0.8728\n",
            "Epoch 3/24\n",
            "938/938 [==============================] - 7s 7ms/step - loss: 0.2946 - accuracy: 0.8916 - val_loss: 0.3144 - val_accuracy: 0.8855\n",
            "Epoch 4/24\n",
            "938/938 [==============================] - 7s 7ms/step - loss: 0.2638 - accuracy: 0.9021 - val_loss: 0.2978 - val_accuracy: 0.8929\n",
            "Epoch 5/24\n",
            "938/938 [==============================] - 7s 7ms/step - loss: 0.2391 - accuracy: 0.9104 - val_loss: 0.2957 - val_accuracy: 0.8953\n",
            "Epoch 6/24\n",
            "938/938 [==============================] - 7s 7ms/step - loss: 0.2190 - accuracy: 0.9189 - val_loss: 0.2676 - val_accuracy: 0.9039\n",
            "Epoch 7/24\n",
            "938/938 [==============================] - 7s 8ms/step - loss: 0.2005 - accuracy: 0.9257 - val_loss: 0.2563 - val_accuracy: 0.9070\n",
            "Epoch 8/24\n",
            "938/938 [==============================] - 7s 7ms/step - loss: 0.1857 - accuracy: 0.9312 - val_loss: 0.2562 - val_accuracy: 0.9063\n",
            "Epoch 9/24\n",
            "938/938 [==============================] - 7s 7ms/step - loss: 0.1704 - accuracy: 0.9358 - val_loss: 0.2567 - val_accuracy: 0.9095\n",
            "Epoch 10/24\n",
            "938/938 [==============================] - 7s 7ms/step - loss: 0.1587 - accuracy: 0.9404 - val_loss: 0.2611 - val_accuracy: 0.9071\n",
            "Epoch 11/24\n",
            "938/938 [==============================] - 8s 9ms/step - loss: 0.1444 - accuracy: 0.9464 - val_loss: 0.2584 - val_accuracy: 0.9110\n",
            "Epoch 12/24\n",
            "938/938 [==============================] - 7s 8ms/step - loss: 0.1331 - accuracy: 0.9505 - val_loss: 0.2812 - val_accuracy: 0.9058\n",
            "Epoch 13/24\n",
            "938/938 [==============================] - 7s 7ms/step - loss: 0.1226 - accuracy: 0.9535 - val_loss: 0.3174 - val_accuracy: 0.8980\n",
            "Epoch 14/24\n",
            "938/938 [==============================] - 7s 7ms/step - loss: 0.1149 - accuracy: 0.9567 - val_loss: 0.2849 - val_accuracy: 0.9129\n",
            "Epoch 15/24\n",
            "938/938 [==============================] - 7s 7ms/step - loss: 0.1048 - accuracy: 0.9607 - val_loss: 0.3002 - val_accuracy: 0.9121\n",
            "Epoch 16/24\n",
            "938/938 [==============================] - 7s 7ms/step - loss: 0.0974 - accuracy: 0.9636 - val_loss: 0.3363 - val_accuracy: 0.9042\n",
            "Epoch 17/24\n",
            "938/938 [==============================] - 7s 7ms/step - loss: 0.0897 - accuracy: 0.9662 - val_loss: 0.3243 - val_accuracy: 0.9084\n",
            "Epoch 18/24\n",
            "938/938 [==============================] - 7s 7ms/step - loss: 0.0837 - accuracy: 0.9681 - val_loss: 0.3500 - val_accuracy: 0.9042\n",
            "Epoch 19/24\n",
            "938/938 [==============================] - 7s 7ms/step - loss: 0.0740 - accuracy: 0.9724 - val_loss: 0.3835 - val_accuracy: 0.9041\n",
            "Epoch 20/24\n",
            "938/938 [==============================] - 7s 7ms/step - loss: 0.0721 - accuracy: 0.9722 - val_loss: 0.3531 - val_accuracy: 0.9113\n",
            "Epoch 21/24\n",
            "938/938 [==============================] - 7s 7ms/step - loss: 0.0658 - accuracy: 0.9751 - val_loss: 0.4162 - val_accuracy: 0.9036\n",
            "Epoch 22/24\n",
            "938/938 [==============================] - 7s 7ms/step - loss: 0.0634 - accuracy: 0.9759 - val_loss: 0.4076 - val_accuracy: 0.9018\n",
            "Epoch 23/24\n",
            "938/938 [==============================] - 7s 7ms/step - loss: 0.0538 - accuracy: 0.9801 - val_loss: 0.4388 - val_accuracy: 0.9091\n",
            "Epoch 24/24\n",
            "938/938 [==============================] - 7s 7ms/step - loss: 0.0524 - accuracy: 0.9799 - val_loss: 0.4076 - val_accuracy: 0.9066\n"
          ]
        }
      ]
    },
    {
      "cell_type": "code",
      "metadata": {
        "colab": {
          "base_uri": "https://localhost:8080/"
        },
        "id": "_eoWnxRa2W4C",
        "outputId": "aea04eb4-fd12-4389-fdeb-e9aaa32a2bec"
      },
      "source": [
        "hist.history"
      ],
      "execution_count": null,
      "outputs": [
        {
          "output_type": "execute_result",
          "data": {
            "text/plain": [
              "{'accuracy': [0.8099666833877563,\n",
              "  0.8774333596229553,\n",
              "  0.8911499977111816,\n",
              "  0.9025333523750305,\n",
              "  0.9105333089828491,\n",
              "  0.9173333048820496,\n",
              "  0.923466682434082,\n",
              "  0.9291666746139526,\n",
              "  0.9340833425521851,\n",
              "  0.9385833144187927,\n",
              "  0.9427833557128906,\n",
              "  0.947700023651123,\n",
              "  0.9515166878700256,\n",
              "  0.9547833204269409,\n",
              "  0.9585166573524475,\n",
              "  0.9610666632652283,\n",
              "  0.9656833410263062,\n",
              "  0.9678833484649658,\n",
              "  0.9697166681289673,\n",
              "  0.9725000262260437,\n",
              "  0.9748166799545288,\n",
              "  0.9753333330154419,\n",
              "  0.977649986743927,\n",
              "  0.9799166917800903],\n",
              " 'loss': [0.5306212902069092,\n",
              "  0.3402053117752075,\n",
              "  0.294933021068573,\n",
              "  0.2641040086746216,\n",
              "  0.24144677817821503,\n",
              "  0.2221149504184723,\n",
              "  0.20422296226024628,\n",
              "  0.18952757120132446,\n",
              "  0.17611360549926758,\n",
              "  0.16257072985172272,\n",
              "  0.1506003886461258,\n",
              "  0.13828404247760773,\n",
              "  0.12666645646095276,\n",
              "  0.11772049963474274,\n",
              "  0.10995069146156311,\n",
              "  0.1011238768696785,\n",
              "  0.0916118249297142,\n",
              "  0.08516238629817963,\n",
              "  0.08047232031822205,\n",
              "  0.07401568442583084,\n",
              "  0.06634597480297089,\n",
              "  0.06522592902183533,\n",
              "  0.06041445583105087,\n",
              "  0.05391133576631546],\n",
              " 'val_accuracy': [0.8619999885559082,\n",
              "  0.8783000111579895,\n",
              "  0.8877999782562256,\n",
              "  0.8712999820709229,\n",
              "  0.8953999876976013,\n",
              "  0.8971999883651733,\n",
              "  0.9010999798774719,\n",
              "  0.9047999978065491,\n",
              "  0.9070000052452087,\n",
              "  0.9067000150680542,\n",
              "  0.9047999978065491,\n",
              "  0.9121999740600586,\n",
              "  0.8925999999046326,\n",
              "  0.9132999777793884,\n",
              "  0.9099000096321106,\n",
              "  0.9106000065803528,\n",
              "  0.9081000089645386,\n",
              "  0.9067000150680542,\n",
              "  0.9053000211715698,\n",
              "  0.90829998254776,\n",
              "  0.9024999737739563,\n",
              "  0.9101999998092651,\n",
              "  0.9100000262260437,\n",
              "  0.9104999899864197],\n",
              " 'val_loss': [0.3893992602825165,\n",
              "  0.3403266966342926,\n",
              "  0.31024155020713806,\n",
              "  0.35197779536247253,\n",
              "  0.28558868169784546,\n",
              "  0.27990150451660156,\n",
              "  0.2779224216938019,\n",
              "  0.26162800192832947,\n",
              "  0.26680734753608704,\n",
              "  0.2665841281414032,\n",
              "  0.2779902219772339,\n",
              "  0.2666686177253723,\n",
              "  0.3404937982559204,\n",
              "  0.28982725739479065,\n",
              "  0.3178989887237549,\n",
              "  0.3320521414279938,\n",
              "  0.3541618287563324,\n",
              "  0.3518345355987549,\n",
              "  0.38411250710487366,\n",
              "  0.3473103940486908,\n",
              "  0.417526513338089,\n",
              "  0.4032203257083893,\n",
              "  0.43223291635513306,\n",
              "  0.44236674904823303]}"
            ]
          },
          "metadata": {},
          "execution_count": 19
        }
      ]
    },
    {
      "cell_type": "code",
      "metadata": {
        "id": "gPjtR2xeRQ1D",
        "colab": {
          "base_uri": "https://localhost:8080/",
          "height": 301
        },
        "outputId": "70c13819-05f6-42f3-b5b3-b6b163d42616"
      },
      "source": [
        "#   Evaluate the model with the test data to get the scores on \"real\" data.\n",
        "score = model.evaluate(x_test, y_test, verbose=0)\n",
        "print('Test loss:', score[0])\n",
        "print('Test accuracy:', score[1])\n",
        "\n",
        "#   Plot data to see relationships in training and validation data\n",
        "import numpy as np\n",
        "import matplotlib.pyplot as plt\n",
        "%matplotlib inline\n",
        "epoch_list = list(range(1, len(hist.history['accuracy']) + 1))  # values for x axis [1, 2, ..., # of epochs]\n",
        "plt.plot(epoch_list, hist.history['accuracy'], epoch_list, hist.history['val_accuracy'])\n",
        "plt.legend(('Training Accuracy', 'Validation Accuracy'))\n",
        "plt.show()"
      ],
      "execution_count": null,
      "outputs": [
        {
          "output_type": "stream",
          "name": "stdout",
          "text": [
            "Test loss: 0.40764009952545166\n",
            "Test accuracy: 0.9065999984741211\n"
          ]
        },
        {
          "output_type": "display_data",
          "data": {
            "image/png": "[encoded data removed]",
            "text/plain": [
              "<Figure size 432x288 with 1 Axes>"
            ]
          },
          "metadata": {
            "needs_background": "light"
          }
        }
      ]
    },
    {
      "cell_type": "code",
      "source": [
        "#model summary\n",
        "model.summary()"
      ],
      "metadata": {
        "colab": {
          "base_uri": "https://localhost:8080/"
        },
        "id": "RxC_wa9bFvNh",
        "outputId": "a5684ed5-8dee-4118-9412-10285fc44d3f"
      },
      "execution_count": null,
      "outputs": [
        {
          "output_type": "stream",
          "name": "stdout",
          "text": [
            "Model: \"sequential\"\n",
            "_________________________________________________________________\n",
            " Layer (type)                Output Shape              Param #   \n",
            "=================================================================\n",
            " conv2d (Conv2D)             (None, 26, 26, 32)        320       \n",
            "                                                                 \n",
            " max_pooling2d (MaxPooling2D  (None, 13, 13, 32)       0         \n",
            " )                                                               \n",
            "                                                                 \n",
            " conv2d_1 (Conv2D)           (None, 11, 11, 32)        9248      \n",
            "                                                                 \n",
            " max_pooling2d_1 (MaxPooling  (None, 5, 5, 32)         0         \n",
            " 2D)                                                             \n",
            "                                                                 \n",
            " flatten (Flatten)           (None, 800)               0         \n",
            "                                                                 \n",
            " dense (Dense)               (None, 128)               102528    \n",
            "                                                                 \n",
            " dense_1 (Dense)             (None, 64)                8256      \n",
            "                                                                 \n",
            " dense_2 (Dense)             (None, 10)                650       \n",
            "                                                                 \n",
            "=================================================================\n",
            "Total params: 121,002\n",
            "Trainable params: 121,002\n",
            "Non-trainable params: 0\n",
            "_________________________________________________________________\n"
          ]
        }
      ]
    },
    {
      "cell_type": "markdown",
      "source": [
        "Parameters in a Conv layer:\n",
        "\n",
        "((shape of width of filter *X* shape of height filter *X* number of filters in the previous layer+1) *X* number of filters)\n",
        "\n",
        "Parameters in the FC layer🇰\n",
        "\n",
        "((current layer c *X* previous layer p)+1 *X* c)"
      ],
      "metadata": {
        "id": "w-QJiUzEB3nh"
      }
    },
    {
      "cell_type": "markdown",
      "source": [
        "In **keras**, non-trainable parameters (as shown in model.summary()) means the number of weights that are not updated during training with backpropagation.\n",
        "\n",
        "If you don't want to train: trainable=False"
      ],
      "metadata": {
        "id": "e2-DmogqDYP6"
      }
    },
    {
      "cell_type": "markdown",
      "metadata": {
        "id": "lKA0TmiA4mXl"
      },
      "source": [
        "Understand the logic behind parameters:\n",
        "\n",
        "https://towardsdatascience.com/understanding-and-calculating-the-number-of-parameters-in-convolution-neural-networks-cnns-fc88790d530d"
      ]
    },
    {
      "cell_type": "code",
      "metadata": {
        "id": "_Ajr0RtjRQ1J"
      },
      "source": [
        "# Save neural network structure\n",
        "from pathlib import Path\n",
        "model_structure = model.to_json()\n",
        "f = Path(\"cnn_mnist_model_structure.json\")\n",
        "f.write_text(model_structure)\n",
        "\n",
        "# Save neural network's trained weights\n",
        "model.save_weights(\"cnn_mnist_model_weights.h5\")"
      ],
      "execution_count": null,
      "outputs": []
    },
    {
      "cell_type": "code",
      "metadata": {
        "id": "7bcCtYLs3neI",
        "colab": {
          "base_uri": "https://localhost:8080/"
        },
        "outputId": "46dc8649-b3d7-464c-fe89-74f40729695d"
      },
      "source": [
        "model.save(\"/content/drive/MyDrive/FTDS-October/Materials/03DeepLearning/CNN\")"
      ],
      "execution_count": null,
      "outputs": [
        {
          "output_type": "stream",
          "name": "stdout",
          "text": [
            "INFO:tensorflow:Assets written to: /content/drive/MyDrive/FTDS-October/Materials/03DeepLearning/CNN/assets\n"
          ]
        }
      ]
    },
    {
      "cell_type": "code",
      "metadata": {
        "id": "EGZHXfN3qkrx"
      },
      "source": [
        ""
      ],
      "execution_count": null,
      "outputs": []
    }
  ]
}